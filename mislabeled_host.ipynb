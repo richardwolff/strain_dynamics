{
 "cells": [
  {
   "cell_type": "code",
   "execution_count": 1,
   "metadata": {},
   "outputs": [],
   "source": [
    "import pandas as pd\n",
    "import numpy as np\n",
    "import matplotlib.pyplot as plt\n",
    "import config\n",
    "import figure_utils as fu\n",
    "plt.style.use(\"ggplot\")"
   ]
  },
  {
   "cell_type": "code",
   "execution_count": 2,
   "metadata": {},
   "outputs": [],
   "source": [
    "Poyet_samples = config.Poyet_samples"
   ]
  },
  {
   "cell_type": "code",
   "execution_count": null,
   "metadata": {},
   "outputs": [],
   "source": [
    "Poyet_samples[\"ae\"].remove(\"SRR9224093\")"
   ]
  },
  {
   "cell_type": "code",
   "execution_count": null,
   "metadata": {},
   "outputs": [],
   "source": [
    "species = \"Bacteroides_massiliensis_44749\"\n",
    "df = pd.read_csv(f\"/u/home/r/rwolff/diversity_ecology/analysis/pi/Poyet/{species}/{species}_pi.txt\",index_col=0)"
   ]
  },
  {
   "cell_type": "code",
   "execution_count": null,
   "metadata": {},
   "outputs": [],
   "source": [
    "dates = pd.read_pickle(f\"metadata/Poyet_host_samples_timepoints.pkl\")\n",
    "dates = pd.Series(tps)"
   ]
  },
  {
   "cell_type": "code",
   "execution_count": null,
   "metadata": {},
   "outputs": [],
   "source": [
    "#dates = pd.read_pickle(f\"metadata/Poyet_collection_dates.pkl\")\n",
    "#dates = pd.Series(dates)"
   ]
  },
  {
   "cell_type": "code",
   "execution_count": null,
   "metadata": {},
   "outputs": [],
   "source": [
    "#host = \"am\"\n",
    "#dates_host = dates[host].index\n",
    "#dates_host = [d for d in dates_host if d in df.index]\n",
    "#df.loc[\"SRR9224093\",dates_host].mean()"
   ]
  },
  {
   "cell_type": "code",
   "execution_count": null,
   "metadata": {},
   "outputs": [],
   "source": [
    "dates[\"an\"]"
   ]
  },
  {
   "cell_type": "code",
   "execution_count": null,
   "metadata": {},
   "outputs": [],
   "source": [
    "ae_specs = [\"Bacteroides_massiliensis_44749\",\"Bacteroides_ovatus_58035\",\"Bacteroides_thetaiotaomicron_56941\",\n",
    "           \"Bacteroides_uniformis_57318\",\"Bacteroides_vulgatus_57955\",\"Eubacterium_rectale_56927\",\n",
    "           \"Ruminococcus_bicirculans_59300\"]"
   ]
  },
  {
   "cell_type": "code",
   "execution_count": null,
   "metadata": {},
   "outputs": [],
   "source": [
    "df"
   ]
  },
  {
   "cell_type": "code",
   "execution_count": null,
   "metadata": {},
   "outputs": [],
   "source": [
    "fig,axs = plt.subplots(7,1,figsize=(12,8))\n",
    "axs = axs.ravel()\n",
    "for i in range(len(ae_specs)):\n",
    "    species = ae_specs[i]\n",
    "    df = pd.read_csv(f\"/u/home/r/rwolff/diversity_ecology/analysis/pi/Poyet/{species}/{species}_pi.txt\",index_col=0)\n",
    "    for host in [\"ae\",\"ao\",\"an\",\"am\"]:\n",
    "        \n",
    "        dates_host = dates[host].index\n",
    "        dates_host = [d for d in dates_host if d in df.index]\n",
    "#dates_host = dates[tps[host].index]\n",
    "        axs[i].plot(dates_host,df.loc['SRR9224432'][dates_host],label=host) \n",
    "    \n",
    "        if \"SRR9224093\" in dates_host:\n",
    "            axs[i].scatter(\"SRR9224093\",df.loc['SRR9224432',\"SRR9224093\"],s=50,c=\"red\",label=\"SRR9224093\")\n",
    "        \n",
    "    if i == 0:\n",
    "        handles, labels = axs[i].get_legend_handles_labels()\n",
    "    \n",
    "    axs[i].set_title(fu.get_pretty_species_name(species))\n",
    "    axs[i].set_xticks([])\n",
    "    axs[i].semilogy()\n",
    "    #axs[i].set_ylim([1e-4,1e-1])\n",
    "fig.tight_layout()\n",
    "fig.text(-0.02,.43,r\"$\\pi_{BT}$\",rotation=90,size=30)\n",
    "    #axs[i].legend(loc=\"upper right\")\n",
    "fig.legend(handles,labels,loc=\"upper right\")\n",
    "#fig.savefig(\"../analysis/final_paper_figures/mislabel_host.png\",bbox_inches=\"tight\")"
   ]
  },
  {
   "cell_type": "code",
   "execution_count": null,
   "metadata": {},
   "outputs": [],
   "source": [
    "species = \"Bacteroides_ovatus_58035\"\n",
    "df = pd.read_csv(f\"/u/home/r/rwolff/diversity_ecology/analysis/pi/Poyet/{species}/{species}_pi.txt\",index_col=0)"
   ]
  },
  {
   "cell_type": "code",
   "execution_count": null,
   "metadata": {},
   "outputs": [],
   "source": [
    "dates[\"ao\"]"
   ]
  },
  {
   "cell_type": "code",
   "execution_count": null,
   "metadata": {},
   "outputs": [],
   "source": [
    "for host in [\"an\",\"ae\",\"ao\",\"am\"]:\n",
    "    dates_host = dates[host].index\n",
    "    dates_host = [d for d in dates_host if d in df.index]\n",
    "    plt.plot(df.loc[\"SRR9224066\",dates_host],label=host)\n",
    "    if \"SRR9224093\" in dates_host:\n",
    "        plt.scatter(\"SRR9224093\",df.loc['SRR9224066',\"SRR9224093\"],s=50,c=\"red\",label=\"SRR9224093\")\n",
    "    \n",
    "plt.title(fu.get_pretty_species_name(species))\n",
    "plt.legend(loc=\"lower right\")    \n",
    "plt.xticks([])\n",
    "plt.semilogy()\n",
    "plt.savefig(\"../analysis/final_paper_figures/mislabel_host_bov_ao.png\",bbox_inches=\"tight\")"
   ]
  },
  {
   "cell_type": "code",
   "execution_count": null,
   "metadata": {},
   "outputs": [],
   "source": [
    "fig,axs = plt.subplots(7,1,figsize=(12,8))\n",
    "axs = axs.ravel()\n",
    "for i in range(len(ae_specs)):\n",
    "    species = ae_specs[i]\n",
    "    df = pd.read_csv(f\"/u/home/r/rwolff/diversity_ecology/analysis/pi/Poyet/{species}/{species}_pi.txt\",index_col=0)\n",
    "    for host in [\"ae\",\"ao\",\"an\",\"am\"]:\n",
    "\n",
    "        dates_host = dates[host].index\n",
    "        dates_host = [d for d in dates_host if d in df.index]\n",
    "#dates_host = dates[tps[host].index]\n",
    "\n",
    "        axs[i].plot(dates_host,np.diag(df.loc[dates_host,dates_host]),label=host) \n",
    "    \n",
    "        if \"SRR9224093\" in dates_host:\n",
    "            axs[i].scatter(\"SRR9224093\",df.loc['SRR9224093',\"SRR9224093\"],s=50,c=\"red\",label=\"SRR9224093\")\n",
    "        \n",
    "    if i == 0:\n",
    "        handles, labels = axs[i].get_legend_handles_labels()\n",
    "    \n",
    "    axs[i].set_title(fu.get_pretty_species_name(species))\n",
    "    axs[i].set_xticks([])\n",
    "    axs[i].semilogy()\n",
    "    #axs[i].set_ylim([1e-4,1e-1])\n",
    "fig.tight_layout()\n",
    "fig.text(-0.02,.43,r\"$\\pi$\",rotation=90,size=30)\n",
    "    #axs[i].legend(loc=\"upper right\")\n",
    "fig.legend(handles,labels,loc=\"upper right\")\n",
    "fig.savefig(\"../analysis/final_paper_figures/mislabel_host_within.png\",bbox_inches=\"tight\")"
   ]
  },
  {
   "cell_type": "code",
   "execution_count": null,
   "metadata": {},
   "outputs": [],
   "source": [
    "host = \"ae\"\n",
    "dates_host = dates[host].index\n",
    "dates_host = [d for d in dates_host if d in df.index]"
   ]
  },
  {
   "cell_type": "code",
   "execution_count": null,
   "metadata": {},
   "outputs": [],
   "source": [
    "host = \"an\"\n",
    "#dates_host = dates[host].index\n",
    "#dates_host = [d for d in dates_host if d in df.index]\n",
    "dates_an = dates[tps[host].index]\n",
    "samples_an = [d for d in tps[host].index if d in df.index]\n",
    "dates_host_an = dates_an.loc[samples_an]\n",
    "\n",
    "plt.plot_date(dates_host_an.values,np.diag(df.loc[samples_an,samples_an]),fmt=\"o-\",label=host)  \n",
    "#plt.xticks([])\n",
    "\n",
    "host = \"am\"\n",
    "#dates_host = dates[host].index\n",
    "#dates_host = [d for d in dates_host if d in df.index]\n",
    "dates_am = dates[tps[host].index]\n",
    "samples_am = [d for d in tps[host].index if d in df.index]\n",
    "dates_host_am = dates_am.loc[samples_am]\n",
    "\n",
    "plt.plot_date(dates_host_am.values,np.diag(df.loc[samples_am,samples_am]),fmt=\"o-\",label=host)  \n",
    "plt.xticks([])\n",
    "\n",
    "plt.semilogy()"
   ]
  },
  {
   "cell_type": "code",
   "execution_count": null,
   "metadata": {},
   "outputs": [],
   "source": []
  }
 ],
 "metadata": {
  "kernelspec": {
   "display_name": "Python 3",
   "language": "python",
   "name": "python3"
  },
  "language_info": {
   "codemirror_mode": {
    "name": "ipython",
    "version": 3
   },
   "file_extension": ".py",
   "mimetype": "text/x-python",
   "name": "python",
   "nbconvert_exporter": "python",
   "pygments_lexer": "ipython3",
   "version": "3.7.3"
  }
 },
 "nbformat": 4,
 "nbformat_minor": 2
}
